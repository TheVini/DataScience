{
 "cells": [
  {
   "cell_type": "markdown",
   "id": "e5696532",
   "metadata": {},
   "source": [
    "Exercise-based on a dataset published on Kaggle: https://www.kaggle.com/toramky/automobile-dataset\n",
    "\n",
    "**Goal:** Finding a model which can  accurately predict insurance costs.\n",
    "\n",
    "**Propouse:**\n",
    "- Accomplishing an exploratory data analysis on the dataset.\n",
    "- Identifying and dealing with possible skewed data, where applicable.\n",
    "- Accomplishing hypothesis tests by analyzing data variation, where applicable.\n",
    "- Accomplishing normality tests.\n",
    "- Identifying possible correlations.\n",
    "- Solving possible overfitting and underfitting problems, if necessary.\n",
    "- Accomplishing data normalization and coeficient regularization techniques, if necessary.\n",
    "- Finding which algorithm have the best performance: Linear Regression, DecisionTreeRegressor, Lasso, GradientBoostingRegressor, Ridge, KNeighborsRegressor, PLSRegression, ElasticNet, XGBRegressor, XGBRFRegressor and RandomForestRegressor\n",
    "- Applying K-Fold cross-validation.\n",
    "- Validating results with confusion matrix\n",
    "- Checking algorithms' results variability.\n",
    "\n",
    "**Solution author's Linkedin profile:** https://bit.ly/3tsOnU3"
   ]
  },
  {
   "cell_type": "code",
   "execution_count": 1,
   "id": "c2c804bc",
   "metadata": {},
   "outputs": [],
   "source": [
    "import pandas as pd\n",
    "import numpy as np\n",
    "import seaborn as sns\n",
    "import zipfile\n",
    "import os\n",
    "import math\n",
    "import statsmodels.api as sm\n",
    "import scipy.stats as stats\n",
    "from matplotlib import pyplot as plt\n",
    "from sklearn.tree import DecisionTreeRegressor\n",
    "from sklearn.model_selection import train_test_split, cross_val_score, cross_val_predict, KFold\n",
    "from sklearn.preprocessing import FunctionTransformer, StandardScaler, LabelEncoder\n",
    "from sklearn.metrics import mean_absolute_error, mean_squared_error, r2_score\n",
    "from sklearn.linear_model import LinearRegression, Lasso, Ridge, ElasticNet\n",
    "from sklearn.ensemble import RandomForestRegressor, GradientBoostingRegressor\n",
    "from sklearn.neighbors import KNeighborsRegressor\n",
    "from sklearn.cross_decomposition import PLSRegression\n",
    "from sklearn.feature_selection import SelectFdr, f_regression\n",
    "from imblearn.over_sampling import ADASYN, SMOTE, RandomOverSampler, BorderlineSMOTE, SMOTENC, SMOTEN\n",
    "from imblearn.under_sampling import AllKNN, TomekLinks, EditedNearestNeighbours, CondensedNearestNeighbour\n",
    "from imblearn.under_sampling import InstanceHardnessThreshold, RepeatedEditedNearestNeighbours, OneSidedSelection\n",
    "from imblearn.under_sampling import NeighbourhoodCleaningRule\n",
    "from xgboost import XGBRegressor, XGBRFRegressor\n",
    "from scipy.stats import norm, shapiro\n",
    "import warnings\n",
    "\n",
    "warnings.filterwarnings(\"ignore\")\n",
    "abs_path = os.getcwd()"
   ]
  },
  {
   "cell_type": "markdown",
   "id": "5b565541",
   "metadata": {},
   "source": [
    "# 1. Get dataset by Kaggle API"
   ]
  },
  {
   "cell_type": "code",
   "execution_count": 2,
   "id": "28a252d7",
   "metadata": {},
   "outputs": [
    {
     "name": "stdout",
     "output_type": "stream",
     "text": [
      "There is a parquet file!!!\n"
     ]
    },
    {
     "data": {
      "text/html": [
       "<div>\n",
       "<style scoped>\n",
       "    .dataframe tbody tr th:only-of-type {\n",
       "        vertical-align: middle;\n",
       "    }\n",
       "\n",
       "    .dataframe tbody tr th {\n",
       "        vertical-align: top;\n",
       "    }\n",
       "\n",
       "    .dataframe thead th {\n",
       "        text-align: right;\n",
       "    }\n",
       "</style>\n",
       "<table border=\"1\" class=\"dataframe\">\n",
       "  <thead>\n",
       "    <tr style=\"text-align: right;\">\n",
       "      <th></th>\n",
       "      <th>age</th>\n",
       "      <th>sex</th>\n",
       "      <th>bmi</th>\n",
       "      <th>children</th>\n",
       "      <th>smoker</th>\n",
       "      <th>region</th>\n",
       "      <th>charges</th>\n",
       "    </tr>\n",
       "  </thead>\n",
       "  <tbody>\n",
       "    <tr>\n",
       "      <th>0</th>\n",
       "      <td>19</td>\n",
       "      <td>female</td>\n",
       "      <td>27.900</td>\n",
       "      <td>0</td>\n",
       "      <td>yes</td>\n",
       "      <td>southwest</td>\n",
       "      <td>16884.92400</td>\n",
       "    </tr>\n",
       "    <tr>\n",
       "      <th>1</th>\n",
       "      <td>18</td>\n",
       "      <td>male</td>\n",
       "      <td>33.770</td>\n",
       "      <td>1</td>\n",
       "      <td>no</td>\n",
       "      <td>southeast</td>\n",
       "      <td>1725.55230</td>\n",
       "    </tr>\n",
       "    <tr>\n",
       "      <th>2</th>\n",
       "      <td>28</td>\n",
       "      <td>male</td>\n",
       "      <td>33.000</td>\n",
       "      <td>3</td>\n",
       "      <td>no</td>\n",
       "      <td>southeast</td>\n",
       "      <td>4449.46200</td>\n",
       "    </tr>\n",
       "    <tr>\n",
       "      <th>3</th>\n",
       "      <td>33</td>\n",
       "      <td>male</td>\n",
       "      <td>22.705</td>\n",
       "      <td>0</td>\n",
       "      <td>no</td>\n",
       "      <td>northwest</td>\n",
       "      <td>21984.47061</td>\n",
       "    </tr>\n",
       "    <tr>\n",
       "      <th>4</th>\n",
       "      <td>32</td>\n",
       "      <td>male</td>\n",
       "      <td>28.880</td>\n",
       "      <td>0</td>\n",
       "      <td>no</td>\n",
       "      <td>northwest</td>\n",
       "      <td>3866.85520</td>\n",
       "    </tr>\n",
       "  </tbody>\n",
       "</table>\n",
       "</div>"
      ],
      "text/plain": [
       "   age     sex     bmi  children smoker     region      charges\n",
       "0   19  female  27.900         0    yes  southwest  16884.92400\n",
       "1   18    male  33.770         1     no  southeast   1725.55230\n",
       "2   28    male  33.000         3     no  southeast   4449.46200\n",
       "3   33    male  22.705         0     no  northwest  21984.47061\n",
       "4   32    male  28.880         0     no  northwest   3866.85520"
      ]
     },
     "execution_count": 2,
     "metadata": {},
     "output_type": "execute_result"
    }
   ],
   "source": [
    "parquet_file = \"insurance.parquet\"\n",
    "csv_file = \"insurance.csv\"\n",
    "zip_file = \"insurance.zip\"\n",
    "\n",
    "if os.path.isfile(parquet_file):\n",
    "    print (\"There is a parquet file!!!\")\n",
    "    dataset = pd.read_parquet(parquet_file)\n",
    "else:\n",
    "    \"\"\"\n",
    "    Get the compressed dataset (.zip file), \n",
    "    Extract .csv file,\n",
    "    Deletr .zip file,\n",
    "    Load .csv jupyter to jupyter notebook,\n",
    "    Delete .csv file,\n",
    "    Generate .parquet file\n",
    "    \"\"\"\n",
    "    print (\"There is no file\")\n",
    "    !kaggle datasets download -d mirichoi0218/insurance\n",
    "    with zipfile.ZipFile(zip_file,\"r\") as zip_ref:\n",
    "        zip_ref.extractall(abs_path)\n",
    "    os.remove(zip_file)\n",
    "    dataset = pd.read_csv(csv_file)\n",
    "    dataset.to_parquet(parquet_file, engine='pyarrow')\n",
    "    os.remove(csv_file)\n",
    "    \n",
    "dataset.head()"
   ]
  },
  {
   "cell_type": "code",
   "execution_count": 21,
   "id": "9d76bfd6",
   "metadata": {},
   "outputs": [
    {
     "name": "stderr",
     "output_type": "stream",
     "text": [
      "[NbConvertApp] Converting notebook insurance.ipynb to html\n",
      "[NbConvertApp] Writing 1577422 bytes to notebook_file.html\n"
     ]
    }
   ],
   "source": [
    "!jupyter nbconvert --to html --output \"notebook_file\" \"insurance.ipynb\" --no-input"
   ]
  },
  {
   "cell_type": "code",
   "execution_count": null,
   "id": "5821a47a",
   "metadata": {},
   "outputs": [],
   "source": []
  }
 ],
 "metadata": {
  "kernelspec": {
   "display_name": "Python 3",
   "language": "python",
   "name": "python3"
  },
  "language_info": {
   "codemirror_mode": {
    "name": "ipython",
    "version": 3
   },
   "file_extension": ".py",
   "mimetype": "text/x-python",
   "name": "python",
   "nbconvert_exporter": "python",
   "pygments_lexer": "ipython3",
   "version": "3.8.8"
  }
 },
 "nbformat": 4,
 "nbformat_minor": 5
}
